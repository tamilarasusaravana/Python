{
 "cells": [
  {
   "cell_type": "markdown",
   "metadata": {},
   "source": [
    "How to combine multiple Excel files into a single file\n",
    "\n",
    "Summarize Excel data with Pandas pivot tables\n",
    "\n",
    "Adding header rows in your Excel reports\n",
    "\n",
    "Adding dynamic charts into your Excel files with Python\n",
    "\n",
    "Styling your Excel files with Python"
   ]
  },
  {
   "cell_type": "code",
   "execution_count": 1,
   "metadata": {},
   "outputs": [],
   "source": [
    "# pip install pandas openpyxl\n",
    "# conda install pandas openpyxl\n",
    "\n",
    "import pandas as pd\n",
    "import os\n",
    "from openpyxl import load_workbook\n",
    "from openpyxl.chart import Reference, BarChart"
   ]
  },
  {
   "cell_type": "code",
   "execution_count": 2,
   "metadata": {},
   "outputs": [],
   "source": [
    "# Section 1: Gathering files\n",
    "path = 'D:\\\\git\\\\Python\\\\Excel\\\\data\\\\'\n",
    "files = os.listdir(path)\n",
    "\n",
    "# Section 2: Combining Files\n",
    "combined = pd.DataFrame()\n",
    "for file in files:\n",
    "    df = pd.read_excel(path+file)\n",
    "    combined = pd.concat([combined, df], ignore_index=True)\n",
    "\n",
    "combined.to_excel('D:\\\\git\\\\Python\\\\Excel\\\\data\\\\Combined.xlsx')"
   ]
  },
  {
   "cell_type": "markdown",
   "metadata": {},
   "source": [
    "### Summarizing Data"
   ]
  },
  {
   "cell_type": "code",
   "execution_count": 3,
   "metadata": {},
   "outputs": [],
   "source": [
    "summary = pd.pivot_table(\n",
    "    data=combined,\n",
    "    index='Salesperson',\n",
    "    values='Amount',\n",
    "    aggfunc='sum'\n",
    ")\n",
    "\n",
    "summary.to_excel('D:\\\\git\\\\Python\\\\Excel\\\\data\\\\Summary.xlsx')"
   ]
  },
  {
   "cell_type": "markdown",
   "metadata": {},
   "source": [
    "#### Adding Header Rows to Excel Reports with OpenPyxl\n",
    "##### Section 4: Adding Descriptive Titles\n",
    "##### Loading Workbook and Worksheet Objects"
   ]
  },
  {
   "cell_type": "code",
   "execution_count": 4,
   "metadata": {},
   "outputs": [],
   "source": [
    "\n",
    "wb = load_workbook('D:\\\\git\\\\Python\\\\Excel\\\\data\\\\Summary.xlsx')\n",
    "ws = wb['Sheet1']\n",
    "\n",
    "# Inserting Descriptive Titles\n",
    "ws.insert_rows(0, 3)\n",
    "ws['A1'].value = 'Sales by Salesperson'\n",
    "ws['A2'].value = 'datagy.io'\n",
    "\n",
    "# Saving the Workbook\n",
    "wb.save('D:\\\\git\\\\Python\\\\Excel\\\\data\\\\Summary.xlsx')"
   ]
  },
  {
   "cell_type": "markdown",
   "metadata": {},
   "source": [
    "### Adding Dynamic Charts to Excel with Python"
   ]
  },
  {
   "cell_type": "code",
   "execution_count": 5,
   "metadata": {},
   "outputs": [],
   "source": [
    "# Section 5: Creating Reference Objects\n",
    "data = Reference(ws, min_col=2, max_col=2, min_row=5, max_row=ws.max_row)\n",
    "categories = Reference(ws, min_col=1, max_col=1, min_row=5, max_row=ws.max_row)\n",
    "\n",
    "# Section 6: Adding a Bar Chart to Our Workbook\n",
    "chart = BarChart()\n",
    "chart.add_data(data)\n",
    "chart.set_categories(categories)\n",
    "ws.add_chart(chart, anchor='F4')\n",
    "\n",
    "wb.save('D:\\\\git\\\\Python\\\\Excel\\\\data\\\\Summary.xlsx')"
   ]
  },
  {
   "cell_type": "markdown",
   "metadata": {},
   "source": [
    "### Styling Excel Reports with Python"
   ]
  },
  {
   "cell_type": "code",
   "execution_count": 7,
   "metadata": {},
   "outputs": [],
   "source": [
    "# Section 7: Styling Cells\n",
    "ws['A1'].style = 'Title'\n",
    "ws['A2'].style = 'Headline 2'\n",
    "\n",
    "for cell in range(5, ws.max_row+1):\n",
    "    ws[f'B{cell}'].style = 'Currency'\n",
    "\n",
    "wb.save('D:\\\\git\\\\Python\\\\Excel\\\\data\\\\Summary.xlsx')"
   ]
  }
 ],
 "metadata": {
  "interpreter": {
   "hash": "aa414c25d567902c323c7ce4ef628b6b96fca6d1fb643ac3ef54e4aeb3c72acb"
  },
  "kernelspec": {
   "display_name": "Python 3.7.3 ('pywp')",
   "language": "python",
   "name": "python3"
  },
  "language_info": {
   "codemirror_mode": {
    "name": "ipython",
    "version": 3
   },
   "file_extension": ".py",
   "mimetype": "text/x-python",
   "name": "python",
   "nbconvert_exporter": "python",
   "pygments_lexer": "ipython3",
   "version": "3.7.3"
  },
  "orig_nbformat": 4
 },
 "nbformat": 4,
 "nbformat_minor": 2
}
